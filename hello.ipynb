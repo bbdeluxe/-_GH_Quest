print("Hello, I'm 조은별")
